{
 "cells": [
  {
   "cell_type": "code",
   "execution_count": null,
   "metadata": {
    "execution": {
     "iopub.execute_input": "2023-05-23T07:22:24.118753Z",
     "iopub.status.busy": "2023-05-23T07:22:24.118284Z",
     "iopub.status.idle": "2023-05-23T07:22:25.368368Z",
     "shell.execute_reply": "2023-05-23T07:22:25.366895Z"
    }
   },
   "outputs": [],
   "source": [
    "import numpy as np \n",
    "import matplotlib.pyplot as plt \n",
    "import pandas as pd \n",
    "import pickle\n",
    "\n",
    "plt.style.use(\"default\")\n",
    "plt.rc(\"text\", usetex=True)\n",
    "plt.rc(\"font\", family=\"cm\")\n",
    "plt.rcParams[\"grid.color\"] = (0.5, 0.5, 0.5, 0.2)"
   ]
  },
  {
   "cell_type": "code",
   "execution_count": null,
   "metadata": {
    "execution": {
     "iopub.execute_input": "2023-05-23T07:22:25.374458Z",
     "iopub.status.busy": "2023-05-23T07:22:25.373535Z",
     "iopub.status.idle": "2023-05-23T07:25:06.667971Z",
     "shell.execute_reply": "2023-05-23T07:25:06.666480Z"
    }
   },
   "outputs": [],
   "source": [
    "X_dataframe = pd.read_csv(\"/mnt/ferracci/features_dataframe_new.csv.gz\")\n",
    "X = np.load(\"/mnt/ferracci/features_new.npz\", allow_pickle=True)['a']\n",
    "y = np.array(pd.read_csv(\"/mnt/ferracci/targets_dataframe_new.csv.gz\")[\"Qedep\"])"
   ]
  },
  {
   "cell_type": "code",
   "execution_count": null,
   "metadata": {
    "execution": {
     "iopub.execute_input": "2023-05-23T07:25:06.675359Z",
     "iopub.status.busy": "2023-05-23T07:25:06.674606Z",
     "iopub.status.idle": "2023-05-23T07:25:07.459494Z",
     "shell.execute_reply": "2023-05-23T07:25:07.458021Z"
    }
   },
   "outputs": [],
   "source": [
    "# we are only interested in the selected features\n",
    "with open('/home/ferracci/new_dataset/features_list.txt', 'r') as f:\n",
    "    file_content = f.read()\n",
    "\n",
    "features_list = file_content.split('\\n')\n",
    "selected_features_names = eval(features_list[0])\n",
    "\n",
    "selected_X_dataframe = X_dataframe[selected_features_names]\n",
    "X = X[:, [X_dataframe.columns.get_loc(name) for name in selected_features_names]]\n",
    "selected_X_dataframe.head()"
   ]
  },
  {
   "cell_type": "code",
   "execution_count": null,
   "metadata": {
    "execution": {
     "iopub.execute_input": "2023-05-23T07:25:07.560030Z",
     "iopub.status.busy": "2023-05-23T07:25:07.559428Z",
     "iopub.status.idle": "2023-05-23T07:25:08.729608Z",
     "shell.execute_reply": "2023-05-23T07:25:08.728349Z"
    }
   },
   "outputs": [],
   "source": [
    "import xgboost as xgb \n",
    "\n",
    "dm_train = xgb.DMatrix(X, label=y)"
   ]
  },
  {
   "attachments": {},
   "cell_type": "markdown",
   "metadata": {},
   "source": [
    "### Hyperparameter Tuning"
   ]
  },
  {
   "cell_type": "code",
   "execution_count": null,
   "metadata": {
    "execution": {
     "iopub.execute_input": "2023-05-23T07:25:08.735907Z",
     "iopub.status.busy": "2023-05-23T07:25:08.735213Z",
     "iopub.status.idle": "2023-05-23T07:25:08.743554Z",
     "shell.execute_reply": "2023-05-23T07:25:08.742368Z"
    }
   },
   "outputs": [],
   "source": [
    "def objective(trial):\n",
    "    # define the hyperparameters to be tuned\n",
    "    params = {\n",
    "        \"objective\": \"reg:squarederror\",\n",
    "        \"eval_metric\": \"mape\",\n",
    "        \"tree_method\": \"gpu_hist\",\n",
    "        \"subsample\": 0.8,\n",
    "        \"max_depth\": trial.suggest_int(\"max_depth\", 6, 12),\n",
    "        \"eta\": trial.suggest_float(\"eta\", 0.05, 0.5),\n",
    "        \"gamma\": trial.suggest_float(\"gamma\", 0.001, 0.01),\n",
    "        \"lambda\": trial.suggest_float(\"lambda\", 0.1, 5),\n",
    "        \"alpha\": trial.suggest_float(\"alpha\", 0.001, 0.01),\n",
    "    }\n",
    "    \n",
    "    # set up the cross-validation procedure\n",
    "    xgb_cv = xgb.cv(params, dm_train, num_boost_round=2000, nfold=5, early_stopping_rounds=5, verbose_eval=False, as_pandas=True)\n",
    "\n",
    "    mape = xgb_cv[\"test-mape-mean\"].min()\n",
    "    std = xgb_cv.loc[xgb_cv[\"test-mape-mean\"].idxmin(), \"test-mape-std\"]\n",
    "    \n",
    "    # log how many estimators were used (after early stopping) and standard deviation\n",
    "    trial.set_user_attr(\"n_estimators\", len(xgb_cv))\n",
    "    trial.set_user_attr(\"std\", std)\n",
    "    print(f\"Trial #{trial.number}. MAPE = {mape:.4f} +/- {std:.4f}\")\n",
    "    return mape"
   ]
  },
  {
   "cell_type": "code",
   "execution_count": null,
   "metadata": {
    "execution": {
     "iopub.execute_input": "2023-05-23T07:25:08.747871Z",
     "iopub.status.busy": "2023-05-23T07:25:08.747277Z",
     "iopub.status.idle": "2023-05-23T09:00:29.564298Z",
     "shell.execute_reply": "2023-05-23T09:00:29.562577Z"
    }
   },
   "outputs": [],
   "source": [
    "import optuna\n",
    "optuna.logging.set_verbosity(optuna.logging.WARNING)\n",
    "\n",
    "# set up the Optuna study\n",
    "study = optuna.create_study(direction=\"minimize\")\n",
    "study.optimize(objective, n_trials=50)\n",
    "\n",
    "# print the best hyperparameters and mape\n",
    "best_hyperparameters = study.best_params\n",
    "best_mape = study.best_value\n",
    "print(f\"Best MAPE: {best_mape:.4f}\")"
   ]
  },
  {
   "cell_type": "code",
   "execution_count": null,
   "metadata": {
    "execution": {
     "iopub.execute_input": "2023-05-23T09:00:29.571098Z",
     "iopub.status.busy": "2023-05-23T09:00:29.570323Z",
     "iopub.status.idle": "2023-05-23T09:00:29.630535Z",
     "shell.execute_reply": "2023-05-23T09:00:29.629489Z"
    }
   },
   "outputs": [],
   "source": [
    "results_dataframe = study.trials_dataframe()\n",
    "results_dataframe.head()"
   ]
  },
  {
   "cell_type": "code",
   "execution_count": null,
   "metadata": {
    "execution": {
     "iopub.execute_input": "2023-05-23T09:00:29.635341Z",
     "iopub.status.busy": "2023-05-23T09:00:29.634783Z",
     "iopub.status.idle": "2023-05-23T09:00:29.670239Z",
     "shell.execute_reply": "2023-05-23T09:00:29.669212Z"
    }
   },
   "outputs": [],
   "source": [
    "trials = results_dataframe.drop([\"number\", \"datetime_start\", \"datetime_complete\", \"duration\", \"state\",\n",
    "                                 \"user_attrs_n_estimators\", \"user_attrs_std\"], axis=1)\n",
    "# swap columns so that mape is the last column\n",
    "columns = list(trials.columns)\n",
    "trials[columns[0]] = 100*trials[columns[0]]\n",
    "columns = [columns[5], columns[2], columns[3], columns[4], columns[1]] + [columns[0]]\n",
    "trials = trials[columns]\n",
    "labels = [\"max depth\", \"learning rate\", \"$\\gamma$\", \"$\\lambda$\", \"$\\\\alpha$\", \"MAPE, \\%\"]\n",
    "trials.head()"
   ]
  },
  {
   "cell_type": "code",
   "execution_count": null,
   "metadata": {
    "execution": {
     "iopub.execute_input": "2023-05-23T09:00:29.675076Z",
     "iopub.status.busy": "2023-05-23T09:00:29.674446Z",
     "iopub.status.idle": "2023-05-23T09:00:35.916197Z",
     "shell.execute_reply": "2023-05-23T09:00:35.915052Z"
    }
   },
   "outputs": [],
   "source": [
    "from helper_functions.parallel_coordinates_plot import * \n",
    "\n",
    "# just 50 trials for readability purposes\n",
    "fig = plot_parallel_coordinates(trials, labels, linewidth=0.8, alpha=0.9)\n",
    "fig.set_dpi(150)\n",
    "fig.supylabel(\"Hyperparameter tuning\", fontsize=15, x=0.05)\n",
    "fig.savefig(\"/home/ferracci/new_dataset/images/BDT_hyperparameter_tuning.png\", dpi=300, bbox_inches=\"tight\", pad_inches=0.2);"
   ]
  },
  {
   "cell_type": "code",
   "execution_count": null,
   "metadata": {
    "execution": {
     "iopub.execute_input": "2023-05-23T09:00:35.927921Z",
     "iopub.status.busy": "2023-05-23T09:00:35.927306Z",
     "iopub.status.idle": "2023-05-23T09:00:35.932506Z",
     "shell.execute_reply": "2023-05-23T09:00:35.931812Z"
    }
   },
   "outputs": [],
   "source": [
    "params = study.best_params\n",
    "\n",
    "# save dictionary to a file\n",
    "with open(\"/home/ferracci/new_dataset/xgb_study.pkl\", \"wb\") as file:\n",
    "    pickle.dump(params, file)"
   ]
  },
  {
   "attachments": {},
   "cell_type": "markdown",
   "metadata": {},
   "source": [
    "### Train Best Model"
   ]
  },
  {
   "cell_type": "code",
   "execution_count": null,
   "metadata": {
    "execution": {
     "iopub.execute_input": "2023-05-23T09:00:35.936088Z",
     "iopub.status.busy": "2023-05-23T09:00:35.935641Z",
     "iopub.status.idle": "2023-05-23T09:00:35.941311Z",
     "shell.execute_reply": "2023-05-23T09:00:35.940697Z"
    }
   },
   "outputs": [],
   "source": [
    "with open(\"/home/ferracci/new_dataset/xgb_study.pkl\", \"rb\") as file:\n",
    "    params = pickle.load(file)\n",
    "\n",
    "params[\"objective\"] = \"reg:squarederror\"\n",
    "params[\"eval_metric\"] = \"mape\"\n",
    "params[\"tree_method\"] = \"gpu_hist\"\n",
    "params[\"subsample\"] = 0.8\n",
    "\n",
    "params"
   ]
  },
  {
   "cell_type": "code",
   "execution_count": null,
   "metadata": {
    "execution": {
     "iopub.execute_input": "2023-05-23T09:00:35.956654Z",
     "iopub.status.busy": "2023-05-23T09:00:35.955748Z",
     "iopub.status.idle": "2023-05-23T09:04:17.763409Z",
     "shell.execute_reply": "2023-05-23T09:04:17.761761Z"
    }
   },
   "outputs": [],
   "source": [
    "cv = xgb.cv(params, dm_train, num_boost_round=2000, nfold=5, early_stopping_rounds=5, verbose_eval=False)\n",
    "best_num_boost_rounds = cv[\"test-mape-mean\"].idxmin()\n",
    "best_model = xgb.train(params, dm_train, num_boost_round=best_num_boost_rounds)"
   ]
  },
  {
   "cell_type": "code",
   "execution_count": null,
   "metadata": {
    "execution": {
     "iopub.execute_input": "2023-05-23T09:04:17.770480Z",
     "iopub.status.busy": "2023-05-23T09:04:17.769728Z",
     "iopub.status.idle": "2023-05-23T09:35:01.678086Z",
     "shell.execute_reply": "2023-05-23T09:35:01.676701Z"
    }
   },
   "outputs": [],
   "source": [
    "%%capture\n",
    "import shap \n",
    "\n",
    "explainer = shap.TreeExplainer(best_model)\n",
    "shap_values = explainer.shap_values(dm_train)\n",
    "shap.summary_plot(shap_values[:, 1:], X[:, 1:], show=False, plot_type=\"layered_violin\", cmap=\"PuOr\", alpha=0.5)\n",
    "\n",
    "fig = plt.gcf()\n",
    "fig.set_figheight(5)\n",
    "fig.set_figwidth(8)\n",
    "fig.set_dpi(150)\n",
    "\n",
    "ax = plt.gca()\n",
    "ax.set_xlabel(\"SHAP (measure of impact on model output)\", fontsize=15)\n",
    "ax.set_xlim([-0.25, 0.45])\n",
    "ax.set_ylabel(\"Feature\", fontsize=15)\n",
    "ax.set_yticklabels([\"$ht_{10\\%-5\\%}$\", \"$ht_{80\\%-75\\%}$\", \"$ht_{5\\%-2\\%}$\", \"$ht_{95\\%-90\\%}$\", \"$pe_{15\\%}$\", \"$ht_{entropy}$\",\n",
    "                    \"$pe_{mean}$\", \"$z_{cc}$\", \"$ht_{kurtosis}$\", \"$pe_{std}$\", \"$\\\\rho_{cc}$\", \"nPMTs\"])\n",
    "ax.tick_params(axis=\"both\", which=\"major\", labelsize=12)\n",
    "ax.tick_params(axis=\"both\", which='minor', labelsize=12)\n",
    "ax.grid()\n",
    "\n",
    "cbar = fig.get_axes()[1]\n",
    "cbar.set_ylabel(\"Feature value\", fontsize=15, rotation=270)\n",
    "cbar.tick_params(labelsize=12)\n",
    "\n",
    "fig.savefig(\"/home/ferracci/new_dataset/images/BDT_shap.png\", dpi=300, bbox_inches=\"tight\", pad_inches=0.2);"
   ]
  },
  {
   "cell_type": "code",
   "execution_count": null,
   "metadata": {
    "execution": {
     "iopub.execute_input": "2023-05-23T09:35:01.686666Z",
     "iopub.status.busy": "2023-05-23T09:35:01.685852Z",
     "iopub.status.idle": "2023-05-23T09:35:01.756710Z",
     "shell.execute_reply": "2023-05-23T09:35:01.755621Z"
    }
   },
   "outputs": [],
   "source": [
    "best_model.save_model(\"/mnt/ferracci/xgb_trained_new.txt\")"
   ]
  },
  {
   "attachments": {},
   "cell_type": "markdown",
   "metadata": {},
   "source": [
    "### Model Evaluation "
   ]
  },
  {
   "cell_type": "code",
   "execution_count": null,
   "metadata": {
    "execution": {
     "iopub.execute_input": "2023-05-23T09:35:01.761706Z",
     "iopub.status.busy": "2023-05-23T09:35:01.761078Z",
     "iopub.status.idle": "2023-05-23T09:35:01.782651Z",
     "shell.execute_reply": "2023-05-23T09:35:01.781386Z"
    }
   },
   "outputs": [],
   "source": [
    "from pathlib import Path\n",
    "from helper_functions.model_evaluation import plot_gaussian_fit\n",
    "from helper_functions.model_evaluation import energy_res_fit\n",
    "from helper_functions.model_evaluation import get_a_tilde"
   ]
  },
  {
   "cell_type": "code",
   "execution_count": null,
   "metadata": {
    "execution": {
     "iopub.execute_input": "2023-05-23T09:35:01.789597Z",
     "iopub.status.busy": "2023-05-23T09:35:01.788251Z",
     "iopub.status.idle": "2023-05-23T09:35:08.625412Z",
     "shell.execute_reply": "2023-05-23T09:35:08.624075Z"
    }
   },
   "outputs": [],
   "source": [
    "X_test_files = list(Path(\"/mnt/ferracci/\").glob(\"features_test_*\"))\n",
    "y_test_files = list(Path(\"/mnt/ferracci/\").glob(\"targets_dataframe_test_*\"))\n",
    "X_test, y_test = [], []\n",
    "\n",
    "for X_test_file in X_test_files:\n",
    "    X_test.append(np.load(X_test_file)[\"a\"][:, [X_dataframe.columns.get_loc(name) for name in selected_features_names]])\n",
    "for y_test_file in y_test_files:\n",
    "    y_test.append(np.array(pd.read_csv(y_test_file)[\"Qedep\"]))\n",
    "\n",
    "energies = [0, 1, 10, 7, 6, 2, 0.1, 9, 5, 3, 8, 4, 0.3, 0.6]\n",
    "X_test = [x for _, x in sorted(zip(energies, X_test))]\n",
    "y_test = [x for _, x in sorted(zip(energies, y_test))]"
   ]
  },
  {
   "cell_type": "code",
   "execution_count": null,
   "metadata": {
    "execution": {
     "iopub.execute_input": "2023-05-23T09:35:08.631314Z",
     "iopub.status.busy": "2023-05-23T09:35:08.630547Z",
     "iopub.status.idle": "2023-05-23T09:35:36.073005Z",
     "shell.execute_reply": "2023-05-23T09:35:36.071676Z"
    }
   },
   "outputs": [],
   "source": [
    "bias, res = [], []\n",
    "err_bias, err_res = [], []\n",
    "\n",
    "for i in range(len(X_test)):\n",
    "    y_pred = best_model.predict(xgb.DMatrix(X_test[i]))\n",
    "    err = y_test[i] - y_pred\n",
    "    err = err[err - np.mean(err) < 5*np.std(err)]\n",
    "\n",
    "    mean, std, err_mean, err_std = plot_gaussian_fit(data=err, n_bins=100, name=\"xgb\", index=i)\n",
    "    bias.append(100 * mean / np.mean(y_test[i]))\n",
    "    res.append(100 * std / np.mean(y_test[i]))\n",
    "    err_bias.append(100 * err_mean / np.mean(y_test[i]))\n",
    "    err_res.append(100 * err_std / np.mean(y_test[i]))\n",
    "    \n",
    "# get fit parameters\n",
    "a, b, c, pcov = energy_res_fit([np.mean(y_test[i]) for i in range(1, len(y_test)-1)], res[1:-1], err_res[1:-1])\n",
    "err_a, err_b, err_c = np.sqrt(np.abs(np.diag(pcov)[0])), np.sqrt(np.abs(np.diag(pcov)[1])), np.sqrt(np.abs(np.diag(pcov)[2]))\n",
    "cov_ab, cov_ac, cov_bc = pcov[0, 1], pcov[0, 2], pcov[1, 2]\n",
    "\n",
    "print(f\"a = {a:.3f} +/- {err_a:.3f}\")\n",
    "print(f\"b = {b:.3f} +/- {err_b:.3f}\")\n",
    "print(f\"c = {c:.3f} +/- {err_c:.3f}\")\n",
    "\n",
    "a_tilde, err_a_tilde = get_a_tilde(a, b, c, err_a, err_b, err_c, cov_ab, cov_ac, cov_bc)\n",
    "print(f\"\\nã = {a_tilde:.3f} +/- {err_a_tilde:.3f}\")\n",
    "\n",
    "with open('/home/ferracci/new_dataset/xgb_results.txt', 'w') as f:\n",
    "    f.write(str(bias))\n",
    "    f.write('\\n')\n",
    "    f.write(str(res))\n",
    "    f.write('\\n')\n",
    "    f.write(str(err_bias))\n",
    "    f.write('\\n')\n",
    "    f.write(str(err_res))\n",
    "    f.write('\\n')\n",
    "    f.write(str([a, b, c, err_a, err_b, err_c, a_tilde, err_a_tilde]))"
   ]
  }
 ],
 "metadata": {
  "kernelspec": {
   "display_name": "deep_learning",
   "language": "python",
   "name": "python3"
  },
  "language_info": {
   "codemirror_mode": {
    "name": "ipython",
    "version": 3
   },
   "file_extension": ".py",
   "mimetype": "text/x-python",
   "name": "python",
   "nbconvert_exporter": "python",
   "pygments_lexer": "ipython3",
   "version": "3.10.6"
  }
 },
 "nbformat": 4,
 "nbformat_minor": 2
}
