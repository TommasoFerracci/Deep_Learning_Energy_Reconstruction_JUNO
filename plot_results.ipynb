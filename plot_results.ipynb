{
 "cells": [
  {
   "cell_type": "code",
   "execution_count": null,
   "metadata": {},
   "outputs": [],
   "source": [
    "import numpy as np\n",
    "import pandas as pd \n",
    "import matplotlib.pyplot as plt \n",
    "from pathlib import Path\n",
    "\n",
    "plt.style.use(\"default\")\n",
    "plt.rc(\"text\", usetex=True)\n",
    "plt.rc(\"font\", family=\"cm\")\n",
    "plt.rcParams[\"grid.color\"] = (0.5, 0.5, 0.5, 0.2)"
   ]
  },
  {
   "cell_type": "code",
   "execution_count": null,
   "metadata": {},
   "outputs": [],
   "source": [
    "with open('/home/ferracci/new_dataset/xgb_results.txt', 'r') as f:\n",
    "    file_xgb_content = f.read()\n",
    "\n",
    "with open('/home/ferracci/new_dataset/fcdnn_results.txt', 'r') as f:\n",
    "    file_fc_content = f.read()\n",
    "\n",
    "with open('/home/ferracci/new_dataset/1dcnn_results.txt', 'r') as f:\n",
    "    file_1d_content = f.read()\n",
    "\n",
    "features_xgb_list = file_xgb_content.split('\\n')\n",
    "bias_xgb = eval(features_xgb_list[0])\n",
    "res_xgb = eval(features_xgb_list[1])\n",
    "err_bias_xgb = eval(features_xgb_list[2])\n",
    "err_res_xgb = eval(features_xgb_list[3])\n",
    "\n",
    "features_fc_list = file_fc_content.split('\\n')\n",
    "bias_fc = eval(features_fc_list[0])\n",
    "res_fc = eval(features_fc_list[1])\n",
    "err_bias_fc = eval(features_fc_list[2])\n",
    "err_res_fc = eval(features_fc_list[3])\n",
    "\n",
    "features_1d_list = file_1d_content.split('\\n')\n",
    "bias_1d = eval(features_1d_list[0])\n",
    "res_1d = eval(features_1d_list[1])\n",
    "err_bias_1d = eval(features_1d_list[2])\n",
    "err_res_1d = eval(features_1d_list[3])\n",
    "\n",
    "y_test_files = list(Path(\"/mnt/ferracci/\").glob(\"targets_dataframe_test_*\"))\n",
    "y_test = []\n",
    "for y_test_file in y_test_files:\n",
    "    y_test.append(np.array(pd.read_csv(y_test_file)[\"Qedep\"]))\n",
    "\n",
    "idx_energies = np.array([0, 1, 10, 7, 6, 2, 0.1, 9, 5, 3, 8, 4, 0.3, 0.6])\n",
    "y_test = [x for _, x in sorted(zip(idx_energies, y_test))]\n",
    "energies = [np.mean(y_test[i]) for i in range(len(y_test))]"
   ]
  },
  {
   "cell_type": "code",
   "execution_count": null,
   "metadata": {},
   "outputs": [],
   "source": [
    "from helper_functions.model_evaluation import energy_res_func \n",
    "from helper_functions.model_evaluation import energy_res_fit\n",
    "\n",
    "a_xgb, b_xgb, c_xgb, _ = energy_res_fit(energies[1:-1], res_xgb[1:-1], err_res_xgb[1:-1])\n",
    "a_fc, b_fc, c_fc, _ = energy_res_fit(energies[1:-1], res_fc[1:-1], err_res_fc[1:-1])\n",
    "a_1d, b_1d, c_1d, _ = energy_res_fit(energies[1:-2], res_1d[1:-2], err_res_1d[1:-2])"
   ]
  },
  {
   "cell_type": "code",
   "execution_count": null,
   "metadata": {},
   "outputs": [],
   "source": [
    "fig, axes = plt.subplots(nrows=2, ncols=1, figsize=(8,5), dpi=150, gridspec_kw={'height_ratios': [2, 1]})\n",
    "\n",
    "x = np.linspace(0.8, 10, 1000)\n",
    "\n",
    "ax = axes[0]\n",
    "ax.errorbar(energies[1:-1], res_xgb[1:-1], yerr=err_res_xgb[1:-1], fmt=\"m.\", markersize=5, capsize=5, label=\"BDT\")\n",
    "ax.plot(x, energy_res_func(x, a_xgb, b_xgb, c_xgb), lw=0.7, color=\"darkmagenta\")\n",
    "ax.errorbar(energies[1:-1], res_fc[1:-1], yerr=err_res_fc[1:-1], fmt=\"b.\", markersize=5, capsize=5, label=\"FCDNN\")\n",
    "ax.plot(x, energy_res_func(x, a_fc, b_fc, c_fc), lw=0.7, color=\"cornflowerblue\")\n",
    "ax.errorbar(energies[1:-1], res_1d[1:-1], yerr=err_res_1d[1:-1], fmt=\"g.\", markersize=5, capsize=5, label=\"1DCNN\")\n",
    "ax.plot(x, energy_res_func(x, a_1d, b_1d, c_1d), lw=0.7, color=\"seagreen\")\n",
    "ax.set_ylabel(\"Resolution, \\%\", fontsize=15)\n",
    "ax.set_xlim([0.5, 10])\n",
    "ax.tick_params(axis=\"both\", which=\"major\", labelsize=12)\n",
    "ax.tick_params(axis=\"both\", which='minor', labelsize=12)\n",
    "ax.legend(prop={'size': 12}, fancybox=False, edgecolor=\"k\", loc=\"upper right\")\n",
    "ax.grid()\n",
    "\n",
    "ax = axes[1]\n",
    "ax.errorbar(energies[1:-1], bias_xgb[1:-1], yerr=err_bias_xgb[1:-1], fmt=\"m.\", markersize=5, capsize=5)\n",
    "ax.errorbar(energies[1:-1], bias_fc[1:-1], yerr=err_bias_fc[1:-1], fmt=\"b.\", markersize=5, capsize=5)\n",
    "ax.errorbar(energies[1:-1], bias_1d[1:-1], yerr=err_bias_1d[1:-1], fmt=\"g.\", markersize=5, capsize=5)\n",
    "ax.axhline(0, ls=\"--\", color=\"gray\")\n",
    "ax.set_xlabel(\"Visible energy [MeV]\", fontsize=15)\n",
    "ax.set_ylabel(\"Bias, \\%\", fontsize=15)\n",
    "ax.set_xlim([0.5, 10])\n",
    "ax.set_ylim([-0.75, 0.75])\n",
    "ax.tick_params(axis=\"both\", which=\"major\", labelsize=12)\n",
    "ax.tick_params(axis=\"both\", which='minor', labelsize=12)\n",
    "ax.grid()\n",
    "\n",
    "fig.savefig(\"/home/ferracci/new_dataset/images/results.png\", dpi=300, bbox_inches=\"tight\", pad_inches=0.2);"
   ]
  }
 ],
 "metadata": {
  "kernelspec": {
   "display_name": "Python 3",
   "language": "python",
   "name": "python3"
  },
  "language_info": {
   "codemirror_mode": {
    "name": "ipython",
    "version": 3
   },
   "file_extension": ".py",
   "mimetype": "text/x-python",
   "name": "python",
   "nbconvert_exporter": "python",
   "pygments_lexer": "ipython3",
   "version": "3.10.6"
  },
  "orig_nbformat": 4
 },
 "nbformat": 4,
 "nbformat_minor": 2
}
